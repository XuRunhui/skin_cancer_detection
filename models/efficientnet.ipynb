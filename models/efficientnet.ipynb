{
 "cells": [
  {
   "cell_type": "code",
   "execution_count": 1,
   "metadata": {},
   "outputs": [],
   "source": [
    "import torch\n",
    "import torch.nn as nn\n",
    "import torch.optim as optim\n",
    "from torchvision import datasets, transforms\n",
    "from efficientnet_pytorch import EfficientNet\n",
    "import os\n",
    "import pandas as pd\n",
    "from torch.utils.data import Dataset, DataLoader\n",
    "from PIL import Image\n",
    "from torchvision.transforms import InterpolationMode\n",
    "from tqdm import tqdm  # 导入 tqdm 库"
   ]
  },
  {
   "cell_type": "code",
   "execution_count": 2,
   "metadata": {},
   "outputs": [],
   "source": [
    "def get_transform():\n",
    "    transform = transforms.Compose([\n",
    "        transforms.Resize(256, interpolation=InterpolationMode.BICUBIC),\n",
    "        transforms.CenterCrop(224),\n",
    "        transforms.ToTensor(),\n",
    "        transforms.Normalize(mean=[0.485, 0.456, 0.406], std=[0.229, 0.224, 0.225])\n",
    "    ])\n",
    "    return transform"
   ]
  },
  {
   "cell_type": "code",
   "execution_count": 3,
   "metadata": {},
   "outputs": [],
   "source": [
    "class CustomImageDataset(Dataset):\n",
    "    def __init__(self, csv_file, img_dir, transform=None):\n",
    "        self.annotations = pd.read_csv(csv_file)\n",
    "        self.img_dir = img_dir\n",
    "        self.transform = transform\n",
    "\n",
    "    def __len__(self):\n",
    "        return len(self.annotations)\n",
    "\n",
    "    def __getitem__(self, idx):\n",
    "        img_path = os.path.join(self.img_dir, self.annotations.iloc[idx][\"isic_id\"] + \".jpg\")\n",
    "        image = Image.open(img_path).convert(\"RGB\")\n",
    "        label = torch.tensor(int(self.annotations.iloc[idx][\"target\"]))\n",
    "\n",
    "        if self.transform:\n",
    "            image = self.transform(image)\n",
    "\n",
    "        return image, label"
   ]
  },
  {
   "cell_type": "code",
   "execution_count": 4,
   "metadata": {},
   "outputs": [
    {
     "name": "stderr",
     "output_type": "stream",
     "text": [
      "/tmp/ipykernel_2186878/224981577.py:3: DtypeWarning: Columns (51,52) have mixed types. Specify dtype option on import or set low_memory=False.\n",
      "  self.annotations = pd.read_csv(csv_file)\n"
     ]
    }
   ],
   "source": [
    "mytransform = get_transform()\n",
    "dataset = CustomImageDataset(csv_file=\"../data/train-metadata.csv\", img_dir=\"../data/train-image/image\", transform=mytransform)"
   ]
  },
  {
   "cell_type": "code",
   "execution_count": null,
   "metadata": {},
   "outputs": [],
   "source": [
    "def print_samples(dataset, num_samples=5):\n",
    "    for i in range(num_samples):\n",
    "        image, label = dataset[i]\n",
    "        print(f'Sample {i+1}:')\n",
    "        print(f'  Image shape: {image.shape}')\n",
    "        print(f'  Label: {label}')\n",
    "        image_pil = transforms.ToPILImage()(image)\n",
    "        image_pil.show()\n",
    "\n",
    "print_samples(dataset)"
   ]
  },
  {
   "cell_type": "code",
   "execution_count": null,
   "metadata": {},
   "outputs": [],
   "source": [
    "def check_dataset(dataset):\n",
    "    try:\n",
    "        for i in range(len(dataset)):\n",
    "            image, label = dataset[i]\n",
    "            assert isinstance(image, torch.Tensor), \"Image is not a torch.Tensor\"\n",
    "            assert image.shape == (3, 600, 600), f\"Unexpected image shape: {image.shape}\"\n",
    "            assert isinstance(label, int), \"Label is not an integer\"\n",
    "        print(\"Dataset verification passed.\")\n",
    "    except Exception as e:\n",
    "        print(f\"Dataset verification failed: {e}\")\n",
    "\n",
    "check_dataset(dataset)"
   ]
  },
  {
   "cell_type": "code",
   "execution_count": 5,
   "metadata": {},
   "outputs": [
    {
     "name": "stdout",
     "output_type": "stream",
     "text": [
      "Batch shape: torch.Size([32, 3, 224, 224])\n",
      "Labels: tensor([0, 0, 0, 0, 0, 0, 0, 0, 0, 0, 0, 0, 0, 0, 0, 0, 0, 0, 0, 0, 0, 0, 0, 0,\n",
      "        0, 0, 0, 0, 0, 0, 0, 0])\n"
     ]
    }
   ],
   "source": [
    "train_loader = DataLoader(dataset, batch_size=32, shuffle=True)\n",
    "for inputs, labels in train_loader:\n",
    "    print(f'Batch shape: {inputs.shape}')\n",
    "    print(f'Labels: {labels}')\n",
    "    break\n",
    "      # 只打印一个批次的形状和标签"
   ]
  },
  {
   "cell_type": "code",
   "execution_count": null,
   "metadata": {},
   "outputs": [],
   "source": [
    "import pandas as pd\n",
    "\n",
    "# 读取CSV文件\n",
    "csv_file = '../data/train-metadata.csv'\n",
    "data = pd.read_csv(csv_file)\n",
    "\n",
    "# 计算target列中1和0的数量\n",
    "target_counts = data['target'].value_counts()\n",
    "\n",
    "print(\"Count of each class in the 'target' column:\")\n",
    "print(target_counts)"
   ]
  },
  {
   "cell_type": "code",
   "execution_count": 6,
   "metadata": {},
   "outputs": [
    {
     "name": "stdout",
     "output_type": "stream",
     "text": [
      "Loaded pretrained weights for efficientnet-b0\n"
     ]
    }
   ],
   "source": [
    "model = EfficientNet.from_pretrained('efficientnet-b0')\n",
    "num_classes = 2\n"
   ]
  },
  {
   "cell_type": "code",
   "execution_count": null,
   "metadata": {},
   "outputs": [],
   "source": [
    "for name, module in model.named_modules():\n",
    "    print(name)"
   ]
  },
  {
   "cell_type": "code",
   "execution_count": 7,
   "metadata": {},
   "outputs": [],
   "source": [
    "model._fc = nn.Sequential(\n",
    "    nn.Linear(model._fc.in_features, 512),  # 新添加的全连接层\n",
    "    nn.ReLU(),\n",
    "    nn.Dropout(0.5),\n",
    "    nn.Linear(512, num_classes)  # 最终分类层\n",
    ")"
   ]
  },
  {
   "cell_type": "code",
   "execution_count": 8,
   "metadata": {},
   "outputs": [],
   "source": [
    "device = torch.device(\"cuda\" if torch.cuda.is_available() else \"cpu\")\n",
    "for param in model.parameters():\n",
    "    param.requires_grad = False\n",
    "\n",
    "criterion = nn.CrossEntropyLoss()\n",
    "optimizer = optim.Adam(model._fc.parameters(), lr=0.001)\n",
    "for param in model._fc.parameters():\n",
    "    param.requires_grad = True\n",
    "\n",
    "model = model.to(device)"
   ]
  },
  {
   "cell_type": "code",
   "execution_count": null,
   "metadata": {},
   "outputs": [],
   "source": [
    "import torch\n",
    "import gc\n",
    "\n",
    "  # Replace `your_tensor` with the actual tensor variable\n",
    "gc.collect()\n",
    "torch.cuda.empty_cache()"
   ]
  },
  {
   "cell_type": "code",
   "execution_count": 9,
   "metadata": {},
   "outputs": [
    {
     "name": "stderr",
     "output_type": "stream",
     "text": [
      "Epoch 1/10:  51%|█████▏    | 6432/12534 [17:39<18:11,  5.59it/s]"
     ]
    }
   ],
   "source": [
    "# 训练模型\n",
    "num_epochs = 10  # 设置总训练轮数\n",
    "save_interval = 2  # 设置保存间隔\n",
    "\n",
    "for epoch in range(num_epochs):\n",
    "    model.train()\n",
    "    running_loss = 0.0\n",
    "    # 使用 tqdm 包装数据加载器以显示进度条\n",
    "    for inputs, labels in tqdm(train_loader, desc=f\"Epoch {epoch+1}/{num_epochs}\"):\n",
    "        inputs, labels = inputs.to(device), labels.to(device)\n",
    "\n",
    "        optimizer.zero_grad()\n",
    "\n",
    "        outputs = model(inputs)\n",
    "        loss = criterion(outputs, labels)\n",
    "        loss.backward()\n",
    "        optimizer.step()\n",
    "\n",
    "        running_loss += loss.item() * inputs.size(0)\n",
    "    \n",
    "    epoch_loss = running_loss / len(train_loader.dataset)\n",
    "    print(f'Epoch {epoch + 1}/{num_epochs}, Loss: {epoch_loss:.4f}')\n",
    "\n",
    "    # 每10个epoch保存一次模型\n",
    "    if (epoch + 1) % save_interval == 0:\n",
    "        model_save_path = f'./trained_model/efficient7b_model_epoch_{epoch + 1}.pth'\n",
    "        torch.save(model.state_dict(), model_save_path)\n",
    "        print(f'Model saved to {model_save_path}')"
   ]
  }
 ],
 "metadata": {
  "kernelspec": {
   "display_name": "skin",
   "language": "python",
   "name": "python3"
  },
  "language_info": {
   "codemirror_mode": {
    "name": "ipython",
    "version": 3
   },
   "file_extension": ".py",
   "mimetype": "text/x-python",
   "name": "python",
   "nbconvert_exporter": "python",
   "pygments_lexer": "ipython3",
   "version": "3.12.4"
  }
 },
 "nbformat": 4,
 "nbformat_minor": 2
}
